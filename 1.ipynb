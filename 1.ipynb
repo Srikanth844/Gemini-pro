{
 "cells": [
  {
   "cell_type": "code",
   "execution_count": null,
   "metadata": {},
   "outputs": [],
   "source": [
    "from PyPDF2 import PdfReader\n",
    "text=\"\"\n",
    "reader = PdfReader(\"PokiryStory.pdf\")\n",
    "page = reader.pages[0]\n",
    "text += page.extract_text()\n",
    "print(text)"
   ]
  },
  {
   "cell_type": "code",
   "execution_count": 13,
   "metadata": {},
   "outputs": [
    {
     "name": "stdout",
     "output_type": "stream",
     "text": [
      "6\n"
     ]
    }
   ],
   "source": [
    "from langchain.text_splitter import RecursiveCharacterTextSplitter\n",
    "text_splitter = RecursiveCharacterTextSplitter(chunk_size=1000, chunk_overlap=100)\n",
    "chunks = text_splitter.split_text(text)\n",
    "print(len(chunks))"
   ]
  },
  {
   "cell_type": "code",
   "execution_count": 11,
   "metadata": {},
   "outputs": [
    {
     "name": "stdout",
     "output_type": "stream",
     "text": [
      "chunks0 , size: 893\n",
      "chunks1 , size: 928\n",
      "chunks2 , size: 976\n",
      "chunks3 , size: 949\n",
      "chunks4 , size: 939\n",
      "chunks5 , size: 840\n",
      "involved in her rape and tells her he loves her very much. Shruti tries to convince Pandu to leave violence\n",
      "but she faced multiple rejections by Pandu. Shruti almost gets raped again by the three men again who \n",
      "previously raped her, Shruti's brother calls Pandu where listens to the whole conversation and goes to \n",
      "save her. Pandu beats up the men where Shruti finally accepts Pandu where the two share a hug. Ali \n",
      "Bhai's gang members retaliate by kidnapping Qadri's daughter, drugging her and creating a lascivious \n",
      "video of her which they threaten to release to the media if Ali Bhai is not released, forcing the embattled \n",
      "Qadri to release Ali Bhai where Pandu slaps Mona and tries to fight with Guru where he tries to shoot him\n",
      "but Mona stops him. However in her drugged state, Qadri's daughter reveals that her father had placed \n",
      "an undercover officer as a mole in Ali Bhai's gang. The gang members find out that an IPS officer by the\n"
     ]
    }
   ],
   "source": [
    "for i, _ in enumerate(chunks):\n",
    "    print(f\"chunks{i} , size: {len(chunks[i])}\")\n",
    "print(chunks[4])\n",
    "    "
   ]
  },
  {
   "cell_type": "code",
   "execution_count": 10,
   "metadata": {},
   "outputs": [
    {
     "name": "stdout",
     "output_type": "stream",
     "text": [
      "chunk0 , size: In Hyderabad, two rival mafia gangs headed by Dubai-based don Ali Bhai and Narayana resort to criminal\n",
      "activities such as extortion, contract and coercion to take control of the city. The new DCP Sayyad \n",
      "Mohammad Pasha Qadri, focuses on making the city a better place by working on arresting all of them. \n",
      "Pandu, a thug working for money and living in Hyderabad along with his friends, is hired by Narayana to \n",
      "beat up Ali Bhai's henchmen Mallesh. Pandu later joins Ali Bhai's gang for monetary reasons. Pandu falls \n",
      "in love with Shruti, an aerobics teacher, who rejects his advances  \n",
      "  \n",
      "Shruti lives with her widowed mother and brother and her neighbor Brahmi, a software engineer who \n",
      "pesters her to marry him. A corrupt SI named Pasupathy, who works for Ali Bhai, lusts after Shruti. He is \n",
      "determined to make her his mistress, undeterred by Shruti's and her mother multiple rejections. He\n",
      "--------------------------------\n",
      "chunk1 , size: determined to make her his mistress, undeterred by Shruti's and her mother multiple rejections. He \n",
      "threatens Shruti's mother if she doesn't agree to be his mistress, he would put a brothel case on her and \n",
      "arrest her. After killing Narayana's henchman, Pandu is confronted by Pasupathy and is able to prevent \n",
      "Shruti from being molested. Shruthi meets him the next day to thank him, and Pandu introduces himself \n",
      "as a self-employed person who undertakes any activity for money. Shruti falls in love with Pandu slowly \n",
      "after spending sometime with him. Shruti tells Pandu about Pasupathy forcing her to be his mistress \n",
      "which angers Pandu. Pasupathy gets angry about Shruti and Pandu's love and confronts Pandu about \n",
      "telling him that Shruti is his mistress, where Pandu says that he loves Shruti truly that Shruti is his love, \n",
      "and he also confronts Shruti and tells her that he is her husband and she can not love Pandu. Surya\n",
      "--------------------------------\n",
      "chunk2 , size: and he also confronts Shruti and tells her that he is her husband and she can not love Pandu. Surya \n",
      "Narayana, Shruti's employer suggests that she marry the man she loves.  \n",
      "  \n",
      "To escape from Pasupathy's advances, Shruthi meets Pandu and proposes to him. After an attack by \n",
      "Narayana's henchmen, Pandu brutally dispatches all the goons, where he reveals himself as a \n",
      "remorseless assassin and suggests that she might want to rethink her proposal where Shruti is \n",
      "heartbroken. Ali Bhai's gang tries to figure who dispatched Narayana's men where Pandu tells he did it. \n",
      "Meanwhile, Narayana sends more of his men to assassainate Pandu and where he dispatch them again, \n",
      "when Mona arrives at his house and tries to have sex with Pandu, and Shruti sees him assassinating all \n",
      "of Narayana's men and sees Mona with where she starts distancing away from Pandu. Pasupathy tries to\n",
      "sexually assault Shruti where her mother requests to not to ruin her life, where sends three mens to her\n",
      "--------------------------------\n",
      "chunk3 , size: sexually assault Shruti where her mother requests to not to ruin her life, where sends three mens to her \n",
      "house and rape her so that way no one ever marries Shruti. Shruti's brother tells Pandu that Shruti is \n",
      "getting raped, where Pandu tries to save Shruti from getting raped but is too late sees Shruti raped. \n",
      "Pandu gets angry and beats up Pasupathy that if he was involved in Shruti being raped that he would \n",
      "murder him.  \n",
      "  \n",
      "Meanwhile, Ali Bhai visits Hyderabad and assassinates Narayana, where he meets Pandu to discuss the \n",
      "murder of a minister by blowing up children's balloons. Pandu rejects the plan as it would involve killing \n",
      "innocents. In the middle of their argument, the police raids the club and arrests Ali Bhai. Meanwhile, \n",
      "Shruti confronts Pandu about him why beat up Pasupathy where he says that he doubts him of being \n",
      "involved in her rape and tells her he loves her very much. Shruti tries to convince Pandu to leave violence\n",
      "--------------------------------\n",
      "chunk4 , size: involved in her rape and tells her he loves her very much. Shruti tries to convince Pandu to leave violence\n",
      "but she faced multiple rejections by Pandu. Shruti almost gets raped again by the three men again who \n",
      "previously raped her, Shruti's brother calls Pandu where listens to the whole conversation and goes to \n",
      "save her. Pandu beats up the men where Shruti finally accepts Pandu where the two share a hug. Ali \n",
      "Bhai's gang members retaliate by kidnapping Qadri's daughter, drugging her and creating a lascivious \n",
      "video of her which they threaten to release to the media if Ali Bhai is not released, forcing the embattled \n",
      "Qadri to release Ali Bhai where Pandu slaps Mona and tries to fight with Guru where he tries to shoot him\n",
      "but Mona stops him. However in her drugged state, Qadri's daughter reveals that her father had placed \n",
      "an undercover officer as a mole in Ali Bhai's gang. The gang members find out that an IPS officer by the\n",
      "--------------------------------\n",
      "chunk5 , size: an undercover officer as a mole in Ali Bhai's gang. The gang members find out that an IPS officer by the \n",
      "name of Krishna Manohar, the son of a retired Inspector Suryanarayana, has gone undercover to finish \n",
      "off the syndicate gangs and is now a part of their gang. Ali Bhai kills Ajay, believing he is Krishna \n",
      "Manohar.  \n",
      "  \n",
      "However, it is revealed that Ajay was actually Suryanarayana's adopted son. Ali Bhai then kills \n",
      "Suryanarayana to lure the real Krishna Manohar. When Krishna Manohar actually turns up, everyone, \n",
      "especially Shruti and Pasupathy are shocked to see that he is Pandu. After Suryanarayana and Ajay's \n",
      "cremation, Pandu goes to kill Ali Bhai, and where he tells DCP about his plans. Shruti tries to stop Pandu \n",
      "from going to kill Ali Bhai, where he tells her to think as him of a criminal for another 24 hours and gives a\n",
      "--------------------------------\n"
     ]
    }
   ],
   "source": [
    "for i, _ in enumerate(chunks):\n",
    "    print(f\"chunk{i} , size: {(chunks[i])}\")\n",
    "    print(\"--------------------------------\")"
   ]
  }
 ],
 "metadata": {
  "kernelspec": {
   "display_name": "geminipro",
   "language": "python",
   "name": "python3"
  },
  "language_info": {
   "codemirror_mode": {
    "name": "ipython",
    "version": 3
   },
   "file_extension": ".py",
   "mimetype": "text/x-python",
   "name": "python",
   "nbconvert_exporter": "python",
   "pygments_lexer": "ipython3",
   "version": "3.12.4"
  }
 },
 "nbformat": 4,
 "nbformat_minor": 2
}
